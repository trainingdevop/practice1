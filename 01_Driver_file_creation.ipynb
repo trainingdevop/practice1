{
 "cells": [
  {
   "cell_type": "code",
   "execution_count": 1,
   "id": "c1a279e5",
   "metadata": {},
   "outputs": [],
   "source": [
    "#Importing required libraries\n",
    "import numpy as np\n",
    "import pandas as pd \n",
    "import os"
   ]
  },
  {
   "cell_type": "code",
   "execution_count": 2,
   "id": "73a064a2",
   "metadata": {},
   "outputs": [
    {
     "data": {
      "text/plain": [
       "'C:\\\\Users\\\\milon\\\\Startlytics_project\\\\Shubham_Origination_score_card\\\\01_Data'"
      ]
     },
     "execution_count": 2,
     "metadata": {},
     "output_type": "execute_result"
    }
   ],
   "source": [
    "# to specified path\n",
    "os.chdir(r'C:\\Users\\milon\\Startlytics_project\\Shubham_Origination_score_card\\01_Data')\n",
    "  \n",
    "# verify the path using getcwd()\n",
    "cwd = os.getcwd()\n",
    "cwd"
   ]
  },
  {
   "cell_type": "code",
   "execution_count": 3,
   "id": "11723501",
   "metadata": {},
   "outputs": [],
   "source": [
    "#Snapshot date\n",
    "Snapshot='2018-09'"
   ]
  },
  {
   "cell_type": "code",
   "execution_count": 4,
   "id": "d902a371",
   "metadata": {},
   "outputs": [],
   "source": [
    "#Reading disbursement date from static file\n",
    "disb_date=pd.read_excel('02_Static Data.xlsx')"
   ]
  },
  {
   "cell_type": "code",
   "execution_count": 5,
   "id": "99ac0976",
   "metadata": {},
   "outputs": [],
   "source": [
    "#Selecting loans which are disbursed from april 2017 to till date\n",
    "disb_date=disb_date[disb_date['Date_of_first_disbursement'] >= '2017-04-01']"
   ]
  },
  {
   "cell_type": "code",
   "execution_count": 6,
   "id": "9b4620bf",
   "metadata": {},
   "outputs": [],
   "source": [
    "#Creating a column which will have only YYYYMM of disbursement date and then slicing the dateframe with all required columns\n",
    "disb_date['disbursement_date_YYYYMM']=disb_date['Date_of_first_disbursement'].dt.to_period('M')\n",
    "disb_date=disb_date[['Loan Number','Date_of_first_disbursement','disbursement_date_YYYYMM']]"
   ]
  },
  {
   "cell_type": "code",
   "execution_count": 7,
   "id": "92baee6a",
   "metadata": {},
   "outputs": [],
   "source": [
    "#Selecting loans which will have disbursement month as per snapshot and also renaming column \n",
    "disb_date=disb_date[disb_date['disbursement_date_YYYYMM']==Snapshot]\n",
    "disb_date=disb_date[['Loan Number','Date_of_first_disbursement']]\n",
    "disb_date=disb_date.rename(columns={'Loan Number':'loan_number'})"
   ]
  },
  {
   "cell_type": "code",
   "execution_count": 8,
   "id": "80be8ebb",
   "metadata": {},
   "outputs": [
    {
     "data": {
      "text/plain": [
       "(559, 2)"
      ]
     },
     "execution_count": 8,
     "metadata": {},
     "output_type": "execute_result"
    }
   ],
   "source": [
    "#Shape of driver file\n",
    "disb_date.shape"
   ]
  },
  {
   "cell_type": "code",
   "execution_count": 9,
   "id": "60f8ef96",
   "metadata": {},
   "outputs": [],
   "source": [
    "disb_date.to_csv(r'C:\\Users\\milon\\Desktop\\New folder\\driver_file_'+Snapshot+'.csv',index=False)"
   ]
  },
  {
   "cell_type": "code",
   "execution_count": 10,
   "id": "c0c5626b",
   "metadata": {},
   "outputs": [],
   "source": [
    "# Saving a file to csv\n",
    "# disb_date.to_csv(r'D:\\Shubham_Origination_score_card\\03_vintage_analysis\\01_driver_files\\driver_file_'+Snapshot+'.csv',index=False)"
   ]
  },
  {
   "cell_type": "code",
   "execution_count": null,
   "id": "d6a7e7ac",
   "metadata": {},
   "outputs": [],
   "source": []
  }
 ],
 "metadata": {
  "kernelspec": {
   "display_name": "Python 3 (ipykernel)",
   "language": "python",
   "name": "python3"
  },
  "language_info": {
   "codemirror_mode": {
    "name": "ipython",
    "version": 3
   },
   "file_extension": ".py",
   "mimetype": "text/x-python",
   "name": "python",
   "nbconvert_exporter": "python",
   "pygments_lexer": "ipython3",
   "version": "3.8.12"
  }
 },
 "nbformat": 4,
 "nbformat_minor": 5
}
